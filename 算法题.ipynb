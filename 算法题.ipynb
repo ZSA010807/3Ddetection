{
 "cells": [
  {
   "cell_type": "code",
   "execution_count": null,
   "id": "78970d85",
   "metadata": {},
   "outputs": [],
   "source": [
    "import os\n",
    "import sys\n",
    "a=[]\n",
    "c=[0]*26\n",
    "for i in range(97,123):\n",
    "   a.append(i)\n",
    "dc=input()\n",
    "i=0\n",
    "while i<len(dc):\n",
    "  for j in range(26):\n",
    "    if dc[i]==chr(a[j]):\n",
    "       c[j]=c[j]+1\n",
    "       break\n",
    "  i=i+1\n",
    "m=c[0]\n",
    "k=0\n",
    "for i in range(25):\n",
    "   if c[i+1]>m:\n",
    "     m=c[i+1]\n",
    "     k=i+1\n",
    "print(c)\n",
    "print(chr(a[k]))\n",
    "print(m)"
   ]
  },
  {
   "cell_type": "code",
   "execution_count": null,
   "id": "04de708a",
   "metadata": {},
   "outputs": [],
   "source": [
    "import os\n",
    "import sys\n",
    "n = int(input())  # 输入序列长度\n",
    "sequence = list(map(int, input().split()))  # 输入序列\n",
    "cost = 0  # 初始代价为0\n",
    "def maxl(list):\n",
    "    m=list[0]\n",
    "    for i in range(len(list)):\n",
    "        if list[i]>=m:\n",
    "            m=list[i]\n",
    "            index=i\n",
    "    return index\n",
    "while len(sequence) > 1:\n",
    "    max_index = maxl(sequence)  # 找到当前序列中最大元素的索引\n",
    "    cost += sequence[max_index]*(len(sequence)-1-max_index)  # 累加代价\n",
    "    sequence.pop(max_index)  # 移除最大元素\n",
    "\n",
    "print(cost)\n"
   ]
  },
  {
   "cell_type": "code",
   "execution_count": null,
   "id": "4c3b9c0c",
   "metadata": {},
   "outputs": [],
   "source": [
    "def quick_sort(arr):\n",
    "    if len(arr) <= 1:\n",
    "        return arr\n",
    "\n",
    "    pivot = arr[0]\n",
    "    left = []\n",
    "    right = []\n",
    "    pivot_indices = []\n",
    "\n",
    "    for i, element in enumerate(arr):\n",
    "        if element < pivot:\n",
    "            left.append(element)\n",
    "        elif element > pivot:\n",
    "            right.append(element)\n",
    "        else:\n",
    "            pivot_indices.append(i)\n",
    "\n",
    "    left = quick_sort(left)\n",
    "    right = quick_sort(right)\n",
    "\n",
    "    sorted_arr = left + pivot_indices + right\n",
    "\n",
    "    return sorted_arr\n",
    "\n",
    "# 输入序列\n",
    "original_sequence = [3, 1, 4, 1, 5, 9, 2, 6, 5, 3, 5]\n",
    "sorted_sequence = quick_sort(original_sequence)\n",
    "\n",
    "# 输出排序后的元素以及它们在原序列的索引\n",
    "for index in sorted_sequence:\n",
    "    print(f\"Element: {original_sequence[index]}, Index: {index}\")\n"
   ]
  },
  {
   "cell_type": "code",
   "execution_count": null,
   "id": "d0cd0504",
   "metadata": {},
   "outputs": [],
   "source": [
    "a=[1,6,6,4,2,87,2,1,6,9]\n",
    "for i in range(len(a)):\n",
    "    for j in range(len(a)-1-i):\n",
    "        if a[j]>a[j+1]:\n",
    "            k=a[j+1]\n",
    "            a[j+1]=a[j]\n",
    "            a[j]=k\n",
    "print(a)"
   ]
  },
  {
   "cell_type": "code",
   "execution_count": 3,
   "id": "d34742c3",
   "metadata": {},
   "outputs": [
    {
     "name": "stdout",
     "output_type": "stream",
     "text": [
      "5 1\n",
      "1 4 2 8 5\n",
      "4\n"
     ]
    }
   ],
   "source": [
    "\n",
    "N,K=map(int,input().split())\n",
    "nums=list(map(int,input().split()))\n",
    "dp = [[0] * (K + 1) for _ in range(N)]\n",
    "for i in range(N):\n",
    "    for j in range(K + 1):\n",
    "        dp[i][j] = 1  # 初始值为1，至少包括自己\n",
    "        for prev in range(i):\n",
    "            if nums[i] >= nums[prev]:\n",
    "                dp[i][j] = max(dp[i][j], dp[prev][j] + 1)\n",
    "            elif j > 0 and prev >= K:\n",
    "                dp[i][j] = max(dp[i][j], dp[prev][j-1] + 1)\n",
    "\n",
    "print(max(dp[N-1]))\n",
    "# t=1\n",
    "# max=0\n",
    "# for i in range(n-2):\n",
    "#     if np[i+1]>=np[i]:\n",
    "#         t++\n",
    "#     elif i+1+n<s:\n",
    "#         if np[i+1+n]>=np[i]:\n",
    "#             t=t+n+1\n",
    "#             i=i+n\n",
    "#         else:\n",
    "#             t=t+n\n",
    "#             i=\n",
    "#             if t>max:\n",
    "#                 max=t\n",
    "#     else:\n",
    "#         if t>max:\n",
    "#             max=t+s-1-i\n",
    " \n",
    "            \n",
    "            \n",
    "        \n",
    "        "
   ]
  },
  {
   "cell_type": "code",
   "execution_count": 1,
   "id": "33d5a669",
   "metadata": {},
   "outputs": [
    {
     "name": "stdout",
     "output_type": "stream",
     "text": [
      "3\n"
     ]
    }
   ],
   "source": [
    "a=[1,2,2,3]\n",
    "print(max(a))"
   ]
  },
  {
   "cell_type": "code",
   "execution_count": 4,
   "id": "27ea2041",
   "metadata": {},
   "outputs": [
    {
     "name": "stdout",
     "output_type": "stream",
     "text": [
      "['AAAAACCCCC', 'CCCCCAAAAA']\n",
      "['AAAAAAAAAA']\n"
     ]
    }
   ],
   "source": [
    "def findRepeatedDnaSequences(s):\n",
    "    if len(s) <= 10:\n",
    "        return []\n",
    "\n",
    "    # 创建一个字典用于存储子序列及其出现次数\n",
    "    sequences_count = {}\n",
    "    result = []\n",
    "\n",
    "    for i in range(len(s) - 9):\n",
    "        sub_sequence = s[i:i+10]\n",
    "        if sub_sequence in sequences_count:\n",
    "            sequences_count[sub_sequence] += 1\n",
    "        else:\n",
    "            sequences_count[sub_sequence] = 1\n",
    "\n",
    "    # 遍历字典，找出出现次数大于1的子序列\n",
    "    for sequence, count in sequences_count.items():\n",
    "        if count > 1:\n",
    "            result.append(sequence)\n",
    "\n",
    "    return result\n",
    "\n",
    "# 示例用法\n",
    "s1 = \"AAAAACCCCCAAAAACCCCCCAAAAAGGGTTT\"\n",
    "s2 = \"AAAAAAAAAAAAA\"\n",
    "\n",
    "print(findRepeatedDnaSequences(s1))  # 输出 [\"AAAAACCCCC\", \"CCCCCAAAAA\"]\n",
    "print(findRepeatedDnaSequences(s2))  # 输出 [\"AAAAAAAAAA\"]\n"
   ]
  },
  {
   "cell_type": "code",
   "execution_count": 8,
   "id": "ee93c39f",
   "metadata": {},
   "outputs": [
    {
     "name": "stdout",
     "output_type": "stream",
     "text": [
      "1dzvf\n",
      "1dzvf\n"
     ]
    }
   ],
   "source": [
    "str=input(\"\")\n",
    "print(str)"
   ]
  },
  {
   "cell_type": "code",
   "execution_count": 24,
   "id": "710f425c",
   "metadata": {},
   "outputs": [
    {
     "name": "stdout",
     "output_type": "stream",
     "text": [
      "age 21\n",
      "city zzu\n"
     ]
    }
   ],
   "source": [
    "dict={}\n",
    "data={\"name\":\"zsa\",\"age\":22}\n",
    "dict=data.copy()\n",
    "data.clear()\n",
    "dict[\"city\"]=\"zzu\"\n",
    "dict[\"age\"]=21\n",
    "del dict[\"name\"]\n",
    "for k,v in dict.items():\n",
    "    print(k,v)\n"
   ]
  },
  {
   "cell_type": "code",
   "execution_count": null,
   "id": "660e3d07",
   "metadata": {},
   "outputs": [],
   "source": []
  },
  {
   "cell_type": "code",
   "execution_count": 33,
   "id": "54902455",
   "metadata": {},
   "outputs": [
    {
     "name": "stdout",
     "output_type": "stream",
     "text": [
      "2\n",
      "99999\n",
      "6\n"
     ]
    }
   ],
   "source": [
    "w=int(input())\n",
    "n=int(input())\n",
    "k=(n+w)%7\n",
    "if k==0:\n",
    "    k=7\n",
    "print(k)"
   ]
  },
  {
   "cell_type": "code",
   "execution_count": 45,
   "id": "42ed4962",
   "metadata": {},
   "outputs": [
    {
     "name": "stdout",
     "output_type": "stream",
     "text": [
      "10 10 2 5\n",
      "0 0\n",
      "7 0\n",
      "[[0, 0], [0, -1], [0, -2], [0, -3], [0, -4], [0, -5], [-1, 0], [-1, -1], [-1, -2], [-1, -3], [-1, -4], [-2, 0], [-2, -1], [-2, -2], [-2, -3], [-2, -4], [-3, 0], [-3, -1], [-3, -2], [-3, -3], [-3, -4], [-4, 0], [-4, -1], [-4, -2], [-4, -3], [-5, 0], [5, 0], [4, 0], [4, -1], [4, -2], [4, -3], [3, 0], [3, -1], [3, -2], [3, -3], [3, -4], [2, 0], [2, -1], [2, -2], [2, -3], [2, -4]]\n",
      "[[0, 0], [5, 0], [4, 0], [3, 0], [2, 0]]\n",
      "5\n"
     ]
    }
   ],
   "source": [
    "W,H,n,R=map(int,input().split())\n",
    "#print(W,H,n,R)\n",
    "x_y=[]\n",
    "p=[]\n",
    "np=[]\n",
    "for i in range(n):\n",
    "    x,y=map(int,input().split())\n",
    "    x_y.append([x,y])\n",
    "    for j in range(R+1):\n",
    "        for t in range(R+1):\n",
    "            if((x-j)*(x-j)+(y-t)*(y-t))<=R*R:\n",
    "                p.append([x-j,y-t])\n",
    "for i in range(len(p)):\n",
    "    for j in range(i+1,len(p)):\n",
    "        if p[i]==p[j]:\n",
    "            p[j]=[-1,-1]\n",
    "    if p[i][0]>=0 and p[i][1]>=0:\n",
    "        np.append(p[i])\n",
    "print(p)\n",
    "print(np)\n",
    "print(len(np))\n",
    "#print(x_y)"
   ]
  },
  {
   "cell_type": "code",
   "execution_count": 46,
   "id": "b444ff7c",
   "metadata": {},
   "outputs": [
    {
     "ename": "TypeError",
     "evalue": "an integer is required (got type str)",
     "output_type": "error",
     "traceback": [
      "\u001b[1;31m---------------------------------------------------------------------------\u001b[0m",
      "\u001b[1;31mTypeError\u001b[0m                                 Traceback (most recent call last)",
      "\u001b[1;32m<ipython-input-46-a65a89333103>\u001b[0m in \u001b[0;36m<module>\u001b[1;34m\u001b[0m\n\u001b[0;32m      1\u001b[0m \u001b[0mw\u001b[0m\u001b[1;33m=\u001b[0m\u001b[1;34m\"asdfd\"\u001b[0m\u001b[1;33m\u001b[0m\u001b[1;33m\u001b[0m\u001b[0m\n\u001b[1;32m----> 2\u001b[1;33m \u001b[0ma\u001b[0m\u001b[1;33m=\u001b[0m\u001b[0mchr\u001b[0m\u001b[1;33m(\u001b[0m\u001b[0mw\u001b[0m\u001b[1;33m[\u001b[0m\u001b[1;36m0\u001b[0m\u001b[1;33m]\u001b[0m\u001b[1;33m)\u001b[0m\u001b[1;33m\u001b[0m\u001b[1;33m\u001b[0m\u001b[0m\n\u001b[0m\u001b[0;32m      3\u001b[0m \u001b[0mprint\u001b[0m\u001b[1;33m(\u001b[0m\u001b[0ma\u001b[0m\u001b[1;33m)\u001b[0m\u001b[1;33m\u001b[0m\u001b[1;33m\u001b[0m\u001b[0m\n",
      "\u001b[1;31mTypeError\u001b[0m: an integer is required (got type str)"
     ]
    }
   ],
   "source": [
    "w=\"asdfd\"\n",
    "a=chr(w[0])\n",
    "print(a)"
   ]
  },
  {
   "cell_type": "code",
   "execution_count": 49,
   "id": "761f37ce",
   "metadata": {},
   "outputs": [
    {
     "ename": "NameError",
     "evalue": "name 'self' is not defined",
     "output_type": "error",
     "traceback": [
      "\u001b[1;31m---------------------------------------------------------------------------\u001b[0m",
      "\u001b[1;31mNameError\u001b[0m                                 Traceback (most recent call last)",
      "\u001b[1;32m<ipython-input-49-c6b2166c38df>\u001b[0m in \u001b[0;36m<module>\u001b[1;34m\u001b[0m\n\u001b[0;32m      4\u001b[0m \u001b[1;33m\u001b[0m\u001b[0m\n\u001b[0;32m      5\u001b[0m \u001b[0mlist\u001b[0m\u001b[1;33m=\u001b[0m\u001b[1;33m[\u001b[0m\u001b[1;34m\"ddvdsj\"\u001b[0m\u001b[1;33m,\u001b[0m\u001b[1;34m\"dcd\"\u001b[0m\u001b[1;33m,\u001b[0m\u001b[1;34m\"aa\"\u001b[0m\u001b[1;33m]\u001b[0m\u001b[1;33m\u001b[0m\u001b[1;33m\u001b[0m\u001b[0m\n\u001b[1;32m----> 6\u001b[1;33m \u001b[0mt\u001b[0m\u001b[1;33m=\u001b[0m\u001b[0mmaxProduct\u001b[0m\u001b[1;33m(\u001b[0m\u001b[0mself\u001b[0m\u001b[1;33m,\u001b[0m\u001b[0mlist\u001b[0m\u001b[1;33m)\u001b[0m\u001b[1;33m\u001b[0m\u001b[1;33m\u001b[0m\u001b[0m\n\u001b[0m",
      "\u001b[1;31mNameError\u001b[0m: name 'self' is not defined"
     ]
    }
   ],
   "source": []
  },
  {
   "cell_type": "code",
   "execution_count": null,
   "id": "ead01ccb",
   "metadata": {},
   "outputs": [],
   "source": []
  }
 ],
 "metadata": {
  "kernelspec": {
   "display_name": "py36",
   "language": "python",
   "name": "py36"
  },
  "language_info": {
   "codemirror_mode": {
    "name": "ipython",
    "version": 3
   },
   "file_extension": ".py",
   "mimetype": "text/x-python",
   "name": "python",
   "nbconvert_exporter": "python",
   "pygments_lexer": "ipython3",
   "version": "3.6.13"
  }
 },
 "nbformat": 4,
 "nbformat_minor": 5
}
