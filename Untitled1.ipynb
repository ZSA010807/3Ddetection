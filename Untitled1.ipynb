{
 "cells": [
  {
   "cell_type": "code",
   "execution_count": 30,
   "id": "24afe56c",
   "metadata": {},
   "outputs": [
    {
     "name": "stdout",
     "output_type": "stream",
     "text": [
      "======\n",
      "Loading NuScenes tables for version v1.0-mini...\n",
      "23 category,\n",
      "8 attribute,\n",
      "4 visibility,\n",
      "911 instance,\n",
      "12 sensor,\n",
      "120 calibrated_sensor,\n",
      "31206 ego_pose,\n",
      "8 log,\n",
      "10 scene,\n",
      "404 sample,\n",
      "31206 sample_data,\n",
      "18538 sample_annotation,\n",
      "4 map,\n",
      "Done loading in 0.619 seconds.\n",
      "======\n",
      "Reverse indexing ...\n",
      "Done reverse indexing in 0.1 seconds.\n",
      "======\n"
     ]
    }
   ],
   "source": [
    "%matplotlib inline\n",
    "from nuscenes.nuscenes import NuScenes\n",
    "import os.path as osp\n",
    "import numpy as np\n",
    "nusc = NuScenes(version='v1.0-mini', dataroot='E:/Jupyter/nuscenes/data/sets/nuscense', verbose=True)"
   ]
  },
  {
   "cell_type": "code",
   "execution_count": 36,
   "id": "36d8af84",
   "metadata": {},
   "outputs": [
    {
     "ename": "NameError",
     "evalue": "name 'token' is not defined",
     "output_type": "error",
     "traceback": [
      "\u001b[1;31m---------------------------------------------------------------------------\u001b[0m",
      "\u001b[1;31mNameError\u001b[0m                                 Traceback (most recent call last)",
      "\u001b[1;32m<ipython-input-36-a99b1c20211f>\u001b[0m in \u001b[0;36m<module>\u001b[1;34m\u001b[0m\n\u001b[0;32m      1\u001b[0m \u001b[1;31m# 标注真值到激光坐标系\u001b[0m\u001b[1;33m\u001b[0m\u001b[1;33m\u001b[0m\u001b[1;33m\u001b[0m\u001b[0m\n\u001b[1;32m----> 2\u001b[1;33m \u001b[0mann\u001b[0m \u001b[1;33m=\u001b[0m \u001b[0mnusc\u001b[0m\u001b[1;33m.\u001b[0m\u001b[0mget\u001b[0m\u001b[1;33m(\u001b[0m\u001b[1;34m'sample_annotation'\u001b[0m\u001b[1;33m,\u001b[0m \u001b[0mtoken\u001b[0m\u001b[1;33m)\u001b[0m\u001b[1;33m\u001b[0m\u001b[1;33m\u001b[0m\u001b[0m\n\u001b[0m\u001b[0;32m      3\u001b[0m \u001b[0mcalib_data\u001b[0m \u001b[1;33m=\u001b[0m \u001b[0mnusc\u001b[0m\u001b[1;33m.\u001b[0m\u001b[0mget\u001b[0m\u001b[1;33m(\u001b[0m\u001b[1;34m'calibrated_sensor'\u001b[0m\u001b[1;33m,\u001b[0m \u001b[0mlidar_data\u001b[0m\u001b[1;33m[\u001b[0m\u001b[1;34m'calibrated_sensor_token'\u001b[0m\u001b[1;33m]\u001b[0m\u001b[1;33m)\u001b[0m\u001b[1;33m\u001b[0m\u001b[1;33m\u001b[0m\u001b[0m\n\u001b[0;32m      4\u001b[0m \u001b[0mego_data\u001b[0m \u001b[1;33m=\u001b[0m \u001b[0mnusc\u001b[0m\u001b[1;33m.\u001b[0m\u001b[0mget\u001b[0m\u001b[1;33m(\u001b[0m\u001b[1;34m'ego_pose'\u001b[0m\u001b[1;33m,\u001b[0m \u001b[0mlidar_data\u001b[0m\u001b[1;33m[\u001b[0m\u001b[1;34m'ego_pose_token'\u001b[0m\u001b[1;33m]\u001b[0m\u001b[1;33m)\u001b[0m\u001b[1;33m\u001b[0m\u001b[1;33m\u001b[0m\u001b[0m\n\u001b[0;32m      5\u001b[0m \u001b[1;31m# global frame\u001b[0m\u001b[1;33m\u001b[0m\u001b[1;33m\u001b[0m\u001b[1;33m\u001b[0m\u001b[0m\n",
      "\u001b[1;31mNameError\u001b[0m: name 'token' is not defined"
     ]
    }
   ],
   "source": [
    "# 标注真值到激光坐标系\n",
    "ann = nusc.get('sample_annotation', token)\n",
    "calib_data = nusc.get('calibrated_sensor', lidar_data['calibrated_sensor_token'])\n",
    "ego_data = nusc.get('ego_pose', lidar_data['ego_pose_token'])\n",
    "# global frame\n",
    "center = np.array(ann['translation'])\n",
    "orientation = np.array(ann['rotation'])\n",
    "# 从global frame转换到ego vehicle frame\n",
    "quaternion = Quaternion(ego_data['rotation']).inverse\n",
    "center -= np.array(ego_data['translation'])\n",
    "center = np.dot(quaternion.rotation_matrix, center)\n",
    "orientation = quaternion * orientation\n",
    "# 从ego vehicle frame转换到sensor frame\n",
    "quaternion = Quaternion(calib_data['rotation']).inverse\n",
    "center -= np.array(calib_data['translation'])\n",
    "center = np.dot(quaternion.rotation_matrix, center)\n",
    "orientation = quaternion * orientation\n"
   ]
  },
  {
   "cell_type": "code",
   "execution_count": 31,
   "id": "7e9105ac",
   "metadata": {},
   "outputs": [],
   "source": [
    "pointsensor_token='9f13d5e7d3274792910807e08f10dfbf'\n",
    "pointsensor=nusc.get('sample_data',pointsensor_token)\n",
    "pcl_path=osp.join(nusc.dataroot,pointsensor['filename'])\n",
    "\n"
   ]
  },
  {
   "cell_type": "code",
   "execution_count": 35,
   "id": "50a5fd63",
   "metadata": {},
   "outputs": [
    {
     "ename": "ValueError",
     "evalue": "cannot reshape array of size 4 into shape (4,4)",
     "output_type": "error",
     "traceback": [
      "\u001b[1;31m---------------------------------------------------------------------------\u001b[0m",
      "\u001b[1;31mValueError\u001b[0m                                Traceback (most recent call last)",
      "\u001b[1;32m<ipython-input-35-8ee8e146d6a1>\u001b[0m in \u001b[0;36m<module>\u001b[1;34m\u001b[0m\n\u001b[0;32m      7\u001b[0m \u001b[1;31m# 进行坐标变换\u001b[0m\u001b[1;33m\u001b[0m\u001b[1;33m\u001b[0m\u001b[1;33m\u001b[0m\u001b[0m\n\u001b[0;32m      8\u001b[0m \u001b[1;31m# 将点云从传感器坐标系变换到世界坐标系\u001b[0m\u001b[1;33m\u001b[0m\u001b[1;33m\u001b[0m\u001b[1;33m\u001b[0m\u001b[0m\n\u001b[1;32m----> 9\u001b[1;33m \u001b[0mrotation_matrix\u001b[0m \u001b[1;33m=\u001b[0m \u001b[0mnp\u001b[0m\u001b[1;33m.\u001b[0m\u001b[0marray\u001b[0m\u001b[1;33m(\u001b[0m\u001b[0mcs_record\u001b[0m\u001b[1;33m[\u001b[0m\u001b[1;34m'rotation'\u001b[0m\u001b[1;33m]\u001b[0m\u001b[1;33m)\u001b[0m\u001b[1;33m.\u001b[0m\u001b[0mreshape\u001b[0m\u001b[1;33m(\u001b[0m\u001b[1;36m4\u001b[0m\u001b[1;33m,\u001b[0m \u001b[1;36m4\u001b[0m\u001b[1;33m)\u001b[0m\u001b[1;33m\u001b[0m\u001b[1;33m\u001b[0m\u001b[0m\n\u001b[0m\u001b[0;32m     10\u001b[0m \u001b[0mtranslation\u001b[0m \u001b[1;33m=\u001b[0m \u001b[0mnp\u001b[0m\u001b[1;33m.\u001b[0m\u001b[0marray\u001b[0m\u001b[1;33m(\u001b[0m\u001b[0mcs_record\u001b[0m\u001b[1;33m[\u001b[0m\u001b[1;34m'translation'\u001b[0m\u001b[1;33m]\u001b[0m\u001b[1;33m)\u001b[0m\u001b[1;33m\u001b[0m\u001b[1;33m\u001b[0m\u001b[0m\n\u001b[0;32m     11\u001b[0m \u001b[1;33m\u001b[0m\u001b[0m\n",
      "\u001b[1;31mValueError\u001b[0m: cannot reshape array of size 4 into shape (4,4)"
     ]
    }
   ],
   "source": [
    "# 获取传感器的校准信息\n",
    "cs_record = nusc.get('calibrated_sensor', sample_data['calibrated_sensor_token'])\n",
    "\n",
    "# 加载点云数据\n",
    "point_cloud = np.fromfile(pcl_path, dtype=np.float32, count=-1).reshape([-1, 3])\n",
    "\n",
    "# 进行坐标变换\n",
    "# 将点云从传感器坐标系变换到世界坐标系\n",
    "rotation_matrix = np.array(cs_record['rotation']).reshape(4, 4)\n",
    "translation = np.array(cs_record['translation'])\n",
    "\n",
    "# 将点云数据旋转\n",
    "point_cloud_xyz = point_cloud[:, :3]  # 仅提取 x, y, z 坐标\n",
    "point_cloud_xyz = np.dot(point_cloud_xyz, rotation_matrix.T)  # 旋转\n",
    "\n",
    "# 平移点云\n",
    "point_cloud_xyz += translation\n",
    "\n",
    "# point_cloud_xyz 现在包含了在世界坐标系中的点云数据\n",
    "\n",
    "# 如果你需要保存或进一步处理点云数据，可以执行后续操作\n"
   ]
  },
  {
   "cell_type": "code",
   "execution_count": null,
   "id": "060b2548",
   "metadata": {},
   "outputs": [],
   "source": [
    "from numpy.quaternion import Quaternion\n",
    "cs_record=nusc.get('calibrated_sensor',pointsensor['calibrated_sensor_token'])\n",
    "point_cloud.rotate(Quaternion(cs_record['rotation']).rotation_matrix)\n",
    "point_cloud.translate(np.array(cs_record['translation']))\n",
    "cs_record"
   ]
  },
  {
   "cell_type": "code",
   "execution_count": null,
   "id": "55bbd1ae",
   "metadata": {},
   "outputs": [],
   "source": []
  }
 ],
 "metadata": {
  "kernelspec": {
   "display_name": "py36",
   "language": "python",
   "name": "py36"
  },
  "language_info": {
   "codemirror_mode": {
    "name": "ipython",
    "version": 3
   },
   "file_extension": ".py",
   "mimetype": "text/x-python",
   "name": "python",
   "nbconvert_exporter": "python",
   "pygments_lexer": "ipython3",
   "version": "3.6.13"
  }
 },
 "nbformat": 4,
 "nbformat_minor": 5
}
